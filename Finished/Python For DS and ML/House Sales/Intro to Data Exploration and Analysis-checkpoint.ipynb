{
 "cells": [
  {
   "cell_type": "markdown",
   "metadata": {},
   "source": [
    "# Intro To Data Analysis On Housing Sale Data. "
   ]
  },
  {
   "cell_type": "markdown",
   "metadata": {},
   "source": [
    "## Important Libraries: Pandas (Dataframes), Numpy (Numeric calculations), Scipy (statistical analysis), Scikit-learn (Predictive Modeling), Matplotlib (Basic Graphing/ Visualization), Seaborn (Advanced Data Visualization Based On Matplotlib)"
   ]
  },
  {
   "cell_type": "markdown",
   "metadata": {},
   "source": [
    "### Intro to Pandas"
   ]
  },
  {
   "cell_type": "code",
   "execution_count": 23,
   "metadata": {},
   "outputs": [
    {
     "name": "stdout",
     "output_type": "stream",
     "text": [
      "Printing First 10 Rows of Data\n",
      "   YearBuilt  SquareFootage HouseType  NumCarGarage Fireplaces Pool  SalePrice\n",
      "0       2002           3201      Semi           4.0        Yes   No  2000000.0\n",
      "1       2017           3150      Semi           3.0        Yes   No  2000000.0\n",
      "2       2000           2455  Detached           3.0         No   No   400000.0\n",
      "3       2006           2560      Semi           4.0        Yes   No   400000.0\n",
      "4       2005           3415       NaN           2.0         No  Yes  2000000.0\n",
      "5       2015           3654      Town           3.0         No   No  2000000.0\n",
      "6       2015           2071      Town           4.0         No   No   400000.0\n",
      "7       2004           1310      Town           1.0        Yes  Yes   750000.0\n",
      "8       2019           2646  Detached           1.0         No   No   400000.0\n",
      "9       2001           1191      Town           2.0         No   No   750000.0\n",
      "\n",
      "Dataset Shape\n",
      "(1000, 7)\n",
      "\n",
      "Data types in the set\n",
      "YearBuilt          int64\n",
      "SquareFootage      int64\n",
      "HouseType         object\n",
      "NumCarGarage     float64\n",
      "Fireplaces        object\n",
      "Pool              object\n",
      "SalePrice        float64\n",
      "dtype: object\n",
      "\n",
      "Describing dataset\n",
      "         YearBuilt  SquareFootage  NumCarGarage     SalePrice\n",
      "count  1000.000000    1000.000000    999.000000  9.950000e+02\n",
      "mean   2009.567000    2484.388000      2.487487  1.025226e+06\n",
      "std       5.934368     857.178259      1.142894  6.778931e+05\n",
      "min    2000.000000    1000.000000      1.000000  4.000000e+05\n",
      "25%    2004.000000    1771.250000      1.000000  4.000000e+05\n",
      "50%    2009.000000    2466.500000      2.000000  7.500000e+05\n",
      "75%    2015.000000    3229.250000      4.000000  2.000000e+06\n",
      "max    2019.000000    3992.000000      4.000000  2.000000e+06\n",
      "\n",
      "\n",
      "Oh No! It appears 5 of our categories have a few missing pieces of Data!\n",
      "Let's clean the dataset so we only consider fully known data.\n",
      "\n",
      "(980, 7)\n"
     ]
    }
   ],
   "source": [
    "#Pandas is an essential Python Library that allows the user\n",
    "#To create and operate extensively on objects known as dataframes\n",
    "#Dataframes are python objects organized to allow powerful\n",
    "#Manipulation and representation of large data, like that found in CSV files\n",
    "import pandas as pd\n",
    "\n",
    "#use the read_csv(filename) method to create a df object populated with the contents of House Sales Values\n",
    "df = pd.read_csv('/House Sales Values.csv')\n",
    "\n",
    "\n",
    "print(\"Printing First 10 Rows of Data\")\n",
    "print(df.head(10))\n",
    "\n",
    "print()\n",
    "\n",
    "#Looking at the shape (row x col) of our dataset\n",
    "print(\"Dataset Shape\")\n",
    "print(df.shape)\n",
    "\n",
    "print()\n",
    "\n",
    "#Looking at the data types of the dataset\n",
    "print(\"Data types in the set\")\n",
    "print(df.dtypes)\n",
    "\n",
    "print()\n",
    "\n",
    "#Describing our dataset (with stats)\n",
    "print(\"Describing dataset\")\n",
    "print(df.describe())\n",
    "\n",
    "print()\n",
    "\n",
    "#Cleaning Data. Finding Null Values and Removing Them\n",
    "\n",
    "total_count = df.isnull().sum().sort_values(ascending = False) #Finding Total Count of Data\n",
    "\n",
    "#Finding % of missing data relative to full set\n",
    "\n",
    "percent_missing = (df.isnull().sum() / df.isnull().count()).sort_values(ascending=False)\n",
    "missing_data = pd.concat([total_count, percent_missing], axis = 1, keys=['Total','Percent'])\n",
    "missing_data.head(20) #No longer prints if anything is written under it?!\n",
    "\n",
    "print()\n",
    "print(\"Oh No! It appears 5 of our categories have a few missing pieces of Data!\")\n",
    "print(\"Let's clean the dataset so we only consider fully known data.\")\n",
    "print()\n",
    "\n",
    "\n",
    "#Removing Null Values\n",
    "df.dropna(axis=0, inplace=True)\n",
    "\n",
    "#Updated shape of our dataframe\n",
    "print(df.shape)\n"
   ]
  },
  {
   "cell_type": "markdown",
   "metadata": {},
   "source": [
    "### Using Scikit-learn (sklearn) to convert Categorical Data into Numeric Data"
   ]
  },
  {
   "cell_type": "code",
   "execution_count": 30,
   "metadata": {},
   "outputs": [
    {
     "name": "stdout",
     "output_type": "stream",
     "text": [
      "Names of Categorical Features\n",
      "['HouseType', 'Fireplaces', 'Pool']\n",
      "Number of categorical features: 3\n",
      "Features successfully converted\n",
      "\n",
      "Showing first 10 rows of dataset post-conversion\n",
      "    YearBuilt  SquareFootage  HouseType  NumCarGarage  Fireplaces  Pool  \\\n",
      "0        2002           3201          1           4.0           1     0   \n",
      "1        2017           3150          1           3.0           1     0   \n",
      "2        2000           2455          0           3.0           0     0   \n",
      "3        2006           2560          1           4.0           1     0   \n",
      "5        2015           3654          2           3.0           0     0   \n",
      "6        2015           2071          2           4.0           0     0   \n",
      "7        2004           1310          2           1.0           1     1   \n",
      "8        2019           2646          0           1.0           0     0   \n",
      "9        2001           1191          2           2.0           0     0   \n",
      "10       2016           3279          2           4.0           0     0   \n",
      "\n",
      "    SalePrice  \n",
      "0   2000000.0  \n",
      "1   2000000.0  \n",
      "2    400000.0  \n",
      "3    400000.0  \n",
      "5   2000000.0  \n",
      "6    400000.0  \n",
      "7    750000.0  \n",
      "8    400000.0  \n",
      "9    750000.0  \n",
      "10  2000000.0  \n",
      "\n",
      "Checking Datatypes\n",
      "YearBuilt          int64\n",
      "SquareFootage      int64\n",
      "HouseType          int64\n",
      "NumCarGarage     float64\n",
      "Fireplaces         int64\n",
      "Pool               int64\n",
      "SalePrice        float64\n",
      "dtype: object\n"
     ]
    }
   ],
   "source": [
    "#Numpy is a library used to perform numeric operations\n",
    "#on data structures like lists and matrices\n",
    "\n",
    "#Scipy is alibrary that uses Numpy data structures\n",
    "#for advanced algebra and calculus operations\n",
    "\n",
    "#Scikit-learn (aka sklearn) is a foundational library for building \n",
    "#predictive models\n",
    "\n",
    "from sklearn.preprocessing import LabelEncoder\n",
    "\n",
    "#get all categorical features\n",
    "categorical_cols = ['HouseType', 'Fireplaces', 'Pool']\n",
    "print(\"Names of Categorical Features\")\n",
    "print(categorical_cols)\n",
    "print(\"Number of categorical features:\",len(categorical_cols))\n",
    "\n",
    "#Preparing to convert categorical variables into labels...\n",
    "labelEncoder = LabelEncoder()\n",
    "\n",
    "#applying LabelEncoder to categorical features\n",
    "\n",
    "for categorical_item in categorical_cols:\n",
    "    df[categorical_item] = labelEncoder.fit_transform(df[categorical_item])\n",
    "    \n",
    "print(\"Features successfully converted\")\n",
    "print()\n",
    "\n",
    "#Checking first 10 rows of dataset\n",
    "print(\"Showing first 10 rows of dataset post-conversion\")\n",
    "print(df.head(10))\n",
    "print()\n",
    "\n",
    "#Checking for updated Datatypes in dataset\n",
    "print(\"Checking Updated Datatypes\")\n",
    "print(df.dtypes)"
   ]
  },
  {
   "cell_type": "markdown",
   "metadata": {},
   "source": [
    "### Using Numpy and Scipy.stats to Remove +3 Z-Score Outliers"
   ]
  },
  {
   "cell_type": "code",
   "execution_count": 41,
   "metadata": {},
   "outputs": [
    {
     "name": "stdout",
     "output_type": "stream",
     "text": [
      "Shape of dataframe without outliers (980, 7)\n",
      "\n",
      "Description of dataframe without outliers\n",
      "          YearBuilt  SquareFootage   HouseType  NumCarGarage  Fireplaces  \\\n",
      "count   980.000000     980.000000  980.000000    980.000000  980.000000   \n",
      "mean   2009.582653    2480.418367    1.021429      2.490816    0.492857   \n",
      "std       5.920335     856.409344    0.826372      1.144743    0.500204   \n",
      "min    2000.000000    1000.000000    0.000000      1.000000    0.000000   \n",
      "25%    2004.000000    1766.000000    0.000000      1.000000    0.000000   \n",
      "50%    2009.000000    2462.000000    1.000000      2.000000    0.000000   \n",
      "75%    2015.000000    3223.500000    2.000000      4.000000    1.000000   \n",
      "max    2019.000000    3992.000000    2.000000      4.000000    1.000000   \n",
      "\n",
      "             Pool     SalePrice  \n",
      "count  980.000000  9.800000e+02  \n",
      "mean     0.500000  1.019949e+06  \n",
      "std      0.500255  6.764630e+05  \n",
      "min      0.000000  4.000000e+05  \n",
      "25%      0.000000  4.000000e+05  \n",
      "50%      0.500000  7.500000e+05  \n",
      "75%      1.000000  2.000000e+06  \n",
      "max      1.000000  2.000000e+06  \n",
      "\n",
      "Our data had and has no outliers!\n"
     ]
    }
   ],
   "source": [
    "import numpy as np\n",
    "from scipy import stats\n",
    "\n",
    "#Calcuation of Z-Scores\n",
    "z_scores = np.abs(stats.zscore(df))\n",
    "\n",
    "#Cleaning up any data with z-score >= 3\n",
    "df = df[(z_scores < 3).all(axis = 1)]\n",
    "print(\"Shape of dataframe without outliers\", df.shape)\n",
    "print()\n",
    "print(\"Description of dataframe without outliers\\n\", df.describe())\n",
    "print()\n",
    "\n",
    "print(\"Our data had and has no outliers!\")"
   ]
  },
  {
   "cell_type": "markdown",
   "metadata": {},
   "source": [
    "### Visualizing Our Data with Matplotlib and Seaborn"
   ]
  },
  {
   "cell_type": "code",
   "execution_count": 44,
   "metadata": {},
   "outputs": [
    {
     "name": "stdout",
     "output_type": "stream",
     "text": [
      "Overall Sale-Price Distribution\n"
     ]
    },
    {
     "name": "stderr",
     "output_type": "stream",
     "text": [
      "C:\\ProgramData\\Anaconda3\\lib\\site-packages\\seaborn\\distributions.py:2551: FutureWarning: `distplot` is a deprecated function and will be removed in a future version. Please adapt your code to use either `displot` (a figure-level function with similar flexibility) or `histplot` (an axes-level function for histograms).\n",
      "  warnings.warn(msg, FutureWarning)\n"
     ]
    },
    {
     "data": {
      "text/plain": [
       "<AxesSubplot:>"
      ]
     },
     "execution_count": 44,
     "metadata": {},
     "output_type": "execute_result"
    },
    {
     "data": {
      "image/png": "[encoded data removed]",
      "text/plain": [
       "<Figure size 432x288 with 1 Axes>"
      ]
     },
     "metadata": {
      "needs_background": "light"
     },
     "output_type": "display_data"
    },
    {
     "data": {
      "image/png": "[encoded data removed]",
      "text/plain": [
       "<Figure size 1008x576 with 1 Axes>"
      ]
     },
     "metadata": {
      "needs_background": "light"
     },
     "output_type": "display_data"
    },
    {
     "data": {
      "image/png": "[encoded data removed]",
      "text/plain": [
       "<Figure size 1440x720 with 2 Axes>"
      ]
     },
     "metadata": {
      "needs_background": "light"
     },
     "output_type": "display_data"
    }
   ],
   "source": [
    "#Visualizing distribution of Sale Price\n",
    "import matplotlib.pyplot as plt\n",
    "import seaborn as sns\n",
    "\n",
    "print(\"Overall Sale-Price Distribution\")\n",
    "sns.distplot(df['SalePrice']);\n",
    "\n",
    "#Visualizing Price-by-type (Detached = 0, Semi = 1, Townhome = 2)\n",
    "\n",
    "var = 'HouseType'\n",
    "data = pd.concat([df['SalePrice'], df[var]], axis=1)\n",
    "f, ax = plt.subplots(figsize=(14,8))\n",
    "fig = sns.boxplot(x=var, y=\"SalePrice\", data = data)\n",
    "fig.axis(ymin = 300000, ymax = 2000000)\n",
    "\n",
    "#Above plots are good for absolute visualization of single variable impact\n",
    "#We can achieve relative impact of all variables using correlation matrices and heatmap visualization\n",
    "\n",
    "correlation_matrix = df.corr()\n",
    "f, ax = plt.subplots(figsize=(20, 10))\n",
    "sns.heatmap(correlation_matrix, cmap=\"YlGnBu\", vmax =.9, square=True) #Big boy, but easy enough to understand"
   ]
  },
  {
   "cell_type": "markdown",
   "metadata": {},
   "source": [
    "# Building Predictive Models"
   ]
  },
  {
   "cell_type": "markdown",
   "metadata": {},
   "source": [
    "### Linear Regression                                                                                                                                                              \n",
    "#### Multiple-Linear Regression defines a linear relationship between a dependent variable Y and n number of independent variables X0 through Xn as Y = Intercept + c0X0 + c1X1 + ... + cnXn where cn is a coefficient determined by the linear regression model"
   ]
  },
  {
   "cell_type": "code",
   "execution_count": 49,
   "metadata": {
    "scrolled": true
   },
   "outputs": [
    {
     "name": "stdout",
     "output_type": "stream",
     "text": [
      "Data split successfully into training and testing data sets...\n",
      "\n",
      "Linear Regression Model Trained Successfully...\n",
      "\n",
      "Mean squared error of the linear regression model: 280817720691.3239\n",
      "R-Squared error of the LRM on the Training Data: 0.2818905399647811\n",
      "R-Squared error of the LRM on the Test Data: 0.3881160275230543\n"
     ]
    }
   ],
   "source": [
    "#Regression is a term coined in the 1870's by a statitician who noticed\n",
    "#That genetic traits like height do not typically increase or decrease\n",
    "#Over time, but instead \"Regress\" towards a mean which varies slightly\n",
    "#With the Introduction of each new piece of data\n",
    "\n",
    "from sklearn.model_selection import train_test_split \n",
    "        # method returns a split of x and y data \n",
    "        # into x-axis train and test data, and y-axis train\n",
    "        # and test data respectively. (X = independent variables, y = dependent variable)\n",
    "        # params(x-data, y-data, test_size = % of data to test 0.0-1.0, \n",
    "        #        random_state = seed for RNG, shuffle = Boolean option: pre-shuffle data?)\n",
    "\n",
    "        \n",
    "#Let's begin By Splitting the data into training and testing sets\n",
    "\n",
    "X = df.drop('SalePrice', axis = 1) #Everything but salePrice data\n",
    "y =df['SalePrice'] #Only salePrice Data\n",
    "\n",
    "X_train, X_test, y_train, y_test = train_test_split(X,y,test_size=.50,random_state=80, shuffle = True)\n",
    "print(\"Data split successfully into training and testing data sets...\\n\")\n",
    "\n",
    "\n",
    "\n",
    "#Building and testing a linear regression model\n",
    "from sklearn.linear_model import LinearRegression\n",
    "\n",
    "#Initializing the Linear Regression Model\n",
    "LR = LinearRegression(copy_X = True)\n",
    "LR.fit(X_train,y_train)\n",
    "print(\"Linear Regression Model Trained Successfully...\\n\")\n",
    "\n",
    "#Making a predicion using the test data in the LRM\n",
    "yhat = LR.predict(X_test)\n",
    "\n",
    "#Two ways to measure accuracy of the LRM\n",
    "\n",
    "#1) Mean Squared Error (MSE) that calculates the difference between actual and predicted values as follows\n",
    "from sklearn.metrics import mean_squared_error\n",
    "print(\"Mean squared error of the linear regression model:\", mean_squared_error(y_test, yhat))\n",
    "\n",
    "#2) R-squared A.K.A. coefficient of determination that calculates how close the data is to the fitted regression line\n",
    "print(\"R-Squared error of the LRM on the Training Data:\", LR.score(X_train, y_train))\n",
    "print(\"R-Squared error of the LRM on the Test Data:\", LR.score(X_test, y_test))\n",
    "print()\n",
    "print(\"This indicates that ~39% of the variation of sale prices can be linearly related to our independent variables\\n\\n\")\n"
   ]
  },
  {
   "cell_type": "markdown",
   "metadata": {},
   "source": [
    "### Decision Tree Regression\n",
    "\n",
    "#### Tree Structure breaks data set into smaller subsets and traverses down different possibility-nodes (boolean options) to arrive at a prediction"
   ]
  },
  {
   "cell_type": "code",
   "execution_count": 51,
   "metadata": {},
   "outputs": [
    {
     "name": "stdout",
     "output_type": "stream",
     "text": [
      "Decision tree regression model trained successfully\n",
      "Decision Tree Accuracy: 0.6693877551020408\n"
     ]
    }
   ],
   "source": [
    "from sklearn.tree import DecisionTreeRegressor\n",
    "\n",
    "#Initializing the Decision Tree Regression Model\n",
    "saleTree = DecisionTreeRegressor(random_state = 100)\n",
    "\n",
    "#fit the regressor with X and y data\n",
    "saleTree.fit(X_train, y_train)\n",
    "print(\"Decision tree regression model trained successfully\")\n",
    "\n",
    "#Making a prediction using the test data in the decision Tree Regression Model\n",
    "predTree = saleTree.predict(X_test)\n",
    "\n",
    "from sklearn import metrics\n",
    "print(\"Decision Tree Accuracy:\", metrics.accuracy_score(y_test, predTree))"
   ]
  },
  {
   "cell_type": "markdown",
   "metadata": {},
   "source": [
    "#### We are now finished with the coding portion of Daneyal Anis' first machine learning manual. Some closing conceptual notes that are not well conveyed by the code follow:\n",
    "    There are three types of machine learning models:\n",
    "        1) Supervised Machine Learning\n",
    "                -Model is provided direction in terms of how to classify data\n",
    "                 Uses this direction to learn before making predictions\n",
    "                 (Broadly, independent vs. dependent is identified)\n",
    "                 Examples include regression and classification analysis\n",
    "                 regression for numbers, classification for type/categorizing\n",
    "                 \n",
    "        2) Unsupervised Machine Learning\n",
    "                -Model is given data without direction or labels, and\n",
    "                 has to make its own \"decisions\" about what seems to be\n",
    "                 related and how. Includes methods like clustering, \n",
    "                 dimension reduction, and association learning.\n",
    "                 \n",
    "                     -Clustering: creates clusters of objects deemed \"similar\" by the program\n",
    "                                  with the most similar being the most close together. Think\n",
    "                                  fraud-detection via feeding a UnSupe ML model investment\n",
    "                                  portfolios with and without fraudulent activity. K-means is \n",
    "                                  a popular python clustering method. \n",
    "                                  \n",
    "                     -Dimension Reduction: Different things are grouped together based on shared\n",
    "                                           features, like categorizing movies into the genres\n",
    "                                           \n",
    "                     -Association Learning: More sophisticated. Associate behaviors with clusters \n",
    "                                            or future events. Think a streaming algorithm. Associates\n",
    "                                            clusters of media with profile viewing behavior to recommend\n",
    "                                            new content.\n",
    "        \n",
    "        3) Deep Learning\n",
    "                - Several learning models are combined into a network that\n",
    "                  is capable of \"decision making\" because the network employs\n",
    "                  multiple different learning models. Different \"nodes\", or \n",
    "                  decision-point learning models, can have different weights\n",
    "                  to the significance of their decisions. Popular Python\n",
    "                  libraries include: TensorFlow, Keras, & PyTorch "
   ]
  }
 ],
 "metadata": {
  "kernelspec": {
   "display_name": "Python 3",
   "language": "python",
   "name": "python3"
  },
  "language_info": {
   "codemirror_mode": {
    "name": "ipython",
    "version": 3
   },
   "file_extension": ".py",
   "mimetype": "text/x-python",
   "name": "python",
   "nbconvert_exporter": "python",
   "pygments_lexer": "ipython3",
   "version": "3.8.5"
  }
 },
 "nbformat": 4,
 "nbformat_minor": 4
}