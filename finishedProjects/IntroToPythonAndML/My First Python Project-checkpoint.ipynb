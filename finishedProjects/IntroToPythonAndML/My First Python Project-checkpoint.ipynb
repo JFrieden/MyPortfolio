{
 "cells": [
  {
   "cell_type": "markdown",
   "metadata": {},
   "source": [
    "# Python Data Structures"
   ]
  },
  {
   "cell_type": "markdown",
   "metadata": {},
   "source": [
    "### Tuples: Immutable, multi-type, ordered/indexed data"
   ]
  },
  {
   "cell_type": "code",
   "execution_count": 16,
   "metadata": {
    "scrolled": true
   },
   "outputs": [
    {
     "ename": "TypeError",
     "evalue": "'tuple' object does not support item assignment",
     "output_type": "error",
     "traceback": [
      "\u001b[1;31m---------------------------------------------------------------------------\u001b[0m",
      "\u001b[1;31mTypeError\u001b[0m                                 Traceback (most recent call last)",
      "\u001b[1;32m<ipython-input-16-2249fd12f48d>\u001b[0m in \u001b[0;36m<module>\u001b[1;34m\u001b[0m\n\u001b[0;32m      1\u001b[0m \u001b[0mtuple1\u001b[0m \u001b[1;33m=\u001b[0m \u001b[1;33m(\u001b[0m\u001b[1;36m1\u001b[0m\u001b[1;33m,\u001b[0m \u001b[1;34m\"two\"\u001b[0m\u001b[1;33m,\u001b[0m \u001b[1;36m3.5\u001b[0m\u001b[1;33m,\u001b[0m \u001b[1;32mFalse\u001b[0m\u001b[1;33m)\u001b[0m\u001b[1;33m\u001b[0m\u001b[1;33m\u001b[0m\u001b[0m\n\u001b[1;32m----> 2\u001b[1;33m \u001b[0mtuple1\u001b[0m\u001b[1;33m[\u001b[0m\u001b[1;36m2\u001b[0m\u001b[1;33m]\u001b[0m \u001b[1;33m=\u001b[0m \u001b[1;36m4\u001b[0m\u001b[1;33m\u001b[0m\u001b[1;33m\u001b[0m\u001b[0m\n\u001b[0m",
      "\u001b[1;31mTypeError\u001b[0m: 'tuple' object does not support item assignment"
     ]
    }
   ],
   "source": [
    "tuple1 = (1, \"two\", 3.5, False)\n",
    "tuple1[2] = 4"
   ]
  },
  {
   "cell_type": "markdown",
   "metadata": {},
   "source": [
    "### Lists: mutable, multi-type, ordered/indexed data"
   ]
  },
  {
   "cell_type": "code",
   "execution_count": 8,
   "metadata": {},
   "outputs": [
    {
     "name": "stdout",
     "output_type": "stream",
     "text": [
      "[1, 'two', 4, False]\n"
     ]
    }
   ],
   "source": [
    "list1 = [1,\"two\",3.5,False]\n",
    "list1[2] = 4\n",
    "print(list1)"
   ]
  },
  {
   "cell_type": "markdown",
   "metadata": {},
   "source": [
    "### Dictionaries: Unordered, immutably string-keyed set, mutably valued data"
   ]
  },
  {
   "cell_type": "code",
   "execution_count": 10,
   "metadata": {},
   "outputs": [
    {
     "name": "stdout",
     "output_type": "stream",
     "text": [
      "{'leader': 'Winston Churchill', 'fighter': 'Mike Tyson', 'city': 'Toronto'}\n"
     ]
    }
   ],
   "source": [
    "dictionary1 = {'leader': 'Abraham Lincoln', 'fighter': 'Mike Tyson', 'city': \"Toronto\"}\n",
    "dictionary1['leader'] = 'Winston Churchill'\n",
    "print(dictionary1)"
   ]
  },
  {
   "cell_type": "markdown",
   "metadata": {},
   "source": [
    "### Sets: mutable, unordered, unique elements (no duplicates)"
   ]
  },
  {
   "cell_type": "code",
   "execution_count": 11,
   "metadata": {},
   "outputs": [
    {
     "name": "stdout",
     "output_type": "stream",
     "text": [
      "{False, 1, 3.5, 'two'}\n",
      "{False, 1, 'twenty', 3.5, 'two'}\n",
      "{False, 1, 'twenty', 3.5}\n"
     ]
    }
   ],
   "source": [
    "set1 = {1, \"two\", 3.5, 3.5, False}\n",
    "print(set1)\n",
    "set1.add('twenty')\n",
    "print(set1)\n",
    "set1.remove(\"two\")\n",
    "print(set1)"
   ]
  },
  {
   "cell_type": "code",
   "execution_count": 12,
   "metadata": {},
   "outputs": [
    {
     "data": {
      "text/plain": [
       "{1, 3.5}"
      ]
     },
     "execution_count": 12,
     "metadata": {},
     "output_type": "execute_result"
    }
   ],
   "source": [
    "set2 = {'hello', 1, 3.5, 'I', 'new'}\n",
    "set2&set1"
   ]
  },
  {
   "cell_type": "code",
   "execution_count": 13,
   "metadata": {},
   "outputs": [
    {
     "data": {
      "text/plain": [
       "{1, 3.5, False, 'I', 'hello', 'new', 'twenty'}"
      ]
     },
     "execution_count": 13,
     "metadata": {},
     "output_type": "execute_result"
    }
   ],
   "source": [
    "set1.union(set2)"
   ]
  },
  {
   "cell_type": "markdown",
   "metadata": {},
   "source": [
    "### Custom Objects: Standard OOP (for now)"
   ]
  },
  {
   "cell_type": "code",
   "execution_count": 14,
   "metadata": {},
   "outputs": [],
   "source": [
    "#custom class Human\n",
    "class Human(object ):\n",
    "    def __init__(self, height, weight):\n",
    "        self.height = height;\n",
    "        self.weight = weight;"
   ]
  },
  {
   "cell_type": "code",
   "execution_count": 15,
   "metadata": {
    "scrolled": true
   },
   "outputs": [
    {
     "name": "stdout",
     "output_type": "stream",
     "text": [
      "60\n",
      "180\n"
     ]
    }
   ],
   "source": [
    "#initializing a Human Custom Class Object\n",
    "newHuman = Human(60,180)\n",
    "print(newHuman.height)\n",
    "print(newHuman.weight)"
   ]
  },
  {
   "cell_type": "markdown",
   "metadata": {},
   "source": [
    "# Traversing Basic Data Structures"
   ]
  },
  {
   "cell_type": "markdown",
   "metadata": {},
   "source": [
    "### If-Then-Else Statements: conditional structures"
   ]
  },
  {
   "cell_type": "code",
   "execution_count": 19,
   "metadata": {},
   "outputs": [
    {
     "name": "stdout",
     "output_type": "stream",
     "text": [
      "Danger!\n"
     ]
    }
   ],
   "source": [
    "wizard = 'Sauron'\n",
    "elf = \"Frodo\"\n",
    "helpComing = True\n",
    "\n",
    "if(wizard == 'Sauron') and (elf == \"Frodo\"):\n",
    "    print(\"Danger!\")\n",
    "elif (helpComing):\n",
    "    print(\"Keep going!\")\n",
    "else:\n",
    "    print(\"Oh no. End of the World\")"
   ]
  },
  {
   "cell_type": "markdown",
   "metadata": {},
   "source": [
    "### Loops: for and while, conditional structures with more oomfph"
   ]
  },
  {
   "cell_type": "code",
   "execution_count": 20,
   "metadata": {},
   "outputs": [
    {
     "name": "stdout",
     "output_type": "stream",
     "text": [
      "[2, 4, 6, 8, 10]\n"
     ]
    }
   ],
   "source": [
    "list1 = [1,3,5,7,9]\n",
    "for i,list in enumerate(list1): #here i is the index, list is the value at i\n",
    "    list1[i] = list+1\n",
    "print(list1)"
   ]
  },
  {
   "cell_type": "code",
   "execution_count": 21,
   "metadata": {},
   "outputs": [
    {
     "name": "stdout",
     "output_type": "stream",
     "text": [
      "one mississippi\n",
      "three mississippi\n",
      "two mississippi\n",
      "four mississippi\n"
     ]
    }
   ],
   "source": [
    "set1 = {'one','two','three','four'}\n",
    "for item in set1:\n",
    "    print(item + ' mississippi')"
   ]
  },
  {
   "cell_type": "code",
   "execution_count": 27,
   "metadata": {},
   "outputs": [
    {
     "name": "stdout",
     "output_type": "stream",
     "text": [
      "you found silver, silver is not gold.\n",
      "you found copper, copper is not gold.\n",
      "you found iron, iron is not gold.\n",
      "you've struck gold!\n"
     ]
    }
   ],
   "source": [
    "i = 0\n",
    "metals = ['silver', 'copper', 'iron', 'gold', 'tin', 'aluminum']\n",
    "while(metals[i] != 'gold'):\n",
    "    print('you found ' + metals[i] + ', ' + metals[i] + ' is not gold.')\n",
    "    i += 1\n",
    "print(\"you've struck gold!\")"
   ]
  },
  {
   "cell_type": "markdown",
   "metadata": {},
   "source": [
    "### Functions: perform tasks given particular data structures "
   ]
  },
  {
   "cell_type": "markdown",
   "metadata": {},
   "source": [
    "##### Typically made in a generalized manner, utilized for possibly repeated tasks"
   ]
  },
  {
   "cell_type": "code",
   "execution_count": 28,
   "metadata": {
    "scrolled": true
   },
   "outputs": [
    {
     "name": "stdout",
     "output_type": "stream",
     "text": [
      "[8, 20, 48, 256]\n"
     ]
    }
   ],
   "source": [
    "#defining a function \"multiples\"\n",
    "def multiples (x, list1):\n",
    "    for i,list in enumerate(list1):\n",
    "        list1[i] = list*x\n",
    "    return list1\n",
    "\n",
    "#using the function \"multiples\"\n",
    "\n",
    "list1 = [2,5,12,64]\n",
    "multiples(4,list1)\n",
    "print(list1)"
   ]
  }
 ],
 "metadata": {},
 "nbformat": 4,
 "nbformat_minor": 4
}
